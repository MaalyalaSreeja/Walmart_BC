{
 "cells": [
  {
   "cell_type": "markdown",
   "id": "f8ee1d4e-b8e6-41d2-ae52-226679835a17",
   "metadata": {},
   "source": [
    "# Walmart - Confidence Interval and CLT"
   ]
  },
  {
   "cell_type": "markdown",
   "id": "e92e819e-6aa7-47ef-ad40-730603557178",
   "metadata": {},
   "source": [
    "The Management team at Walmart Inc. wants to analyze the customer purchase behavior (specifically, purchase amount) against the customer’s gender and the various other factors to help the business make better decisions. They want to understand if the spending habits differ between male and female customers: Do women spend more on Black Friday than men? (Assume 50 million customers are male and 50 million are female).\n",
    "\n"
   ]
  },
  {
   "cell_type": "markdown",
   "id": "6f0d69b9-8d2a-457f-84ca-571e6aa15cfa",
   "metadata": {},
   "source": [
    "### Importing the required libraries"
   ]
  },
  {
   "cell_type": "code",
   "execution_count": 2,
   "id": "b38de837-d4cf-4f1c-98a3-a27a4eb29530",
   "metadata": {},
   "outputs": [],
   "source": [
    "import numpy as np\n",
    "import pandas as pd\n",
    "import seaborn as sns\n",
    "import matplotlib.pyplot as plt\n",
    "\n"
   ]
  },
  {
   "cell_type": "markdown",
   "id": "bbca5faa-b8a5-49db-b8d5-a2f42ee3605b",
   "metadata": {},
   "source": [
    "### Importing the dataset"
   ]
  },
  {
   "cell_type": "code",
   "execution_count": 3,
   "id": "ba0422d1-3c41-49a2-9593-5c63af2e376b",
   "metadata": {},
   "outputs": [],
   "source": [
    "df = pd.read_csv('walmart_data.txt')"
   ]
  },
  {
   "cell_type": "code",
   "execution_count": 4,
   "id": "52ad83eb-af18-4dd4-84ad-fcccd5cd4c8e",
   "metadata": {},
   "outputs": [
    {
     "data": {
      "text/html": [
       "<div>\n",
       "<style scoped>\n",
       "    .dataframe tbody tr th:only-of-type {\n",
       "        vertical-align: middle;\n",
       "    }\n",
       "\n",
       "    .dataframe tbody tr th {\n",
       "        vertical-align: top;\n",
       "    }\n",
       "\n",
       "    .dataframe thead th {\n",
       "        text-align: right;\n",
       "    }\n",
       "</style>\n",
       "<table border=\"1\" class=\"dataframe\">\n",
       "  <thead>\n",
       "    <tr style=\"text-align: right;\">\n",
       "      <th></th>\n",
       "      <th>User_ID</th>\n",
       "      <th>Product_ID</th>\n",
       "      <th>Gender</th>\n",
       "      <th>Age</th>\n",
       "      <th>Occupation</th>\n",
       "      <th>City_Category</th>\n",
       "      <th>Stay_In_Current_City_Years</th>\n",
       "      <th>Marital_Status</th>\n",
       "      <th>Product_Category</th>\n",
       "      <th>Purchase</th>\n",
       "    </tr>\n",
       "  </thead>\n",
       "  <tbody>\n",
       "    <tr>\n",
       "      <th>0</th>\n",
       "      <td>1000001</td>\n",
       "      <td>P00069042</td>\n",
       "      <td>F</td>\n",
       "      <td>0-17</td>\n",
       "      <td>10</td>\n",
       "      <td>A</td>\n",
       "      <td>2</td>\n",
       "      <td>0</td>\n",
       "      <td>3</td>\n",
       "      <td>8370</td>\n",
       "    </tr>\n",
       "    <tr>\n",
       "      <th>1</th>\n",
       "      <td>1000001</td>\n",
       "      <td>P00248942</td>\n",
       "      <td>F</td>\n",
       "      <td>0-17</td>\n",
       "      <td>10</td>\n",
       "      <td>A</td>\n",
       "      <td>2</td>\n",
       "      <td>0</td>\n",
       "      <td>1</td>\n",
       "      <td>15200</td>\n",
       "    </tr>\n",
       "    <tr>\n",
       "      <th>2</th>\n",
       "      <td>1000001</td>\n",
       "      <td>P00087842</td>\n",
       "      <td>F</td>\n",
       "      <td>0-17</td>\n",
       "      <td>10</td>\n",
       "      <td>A</td>\n",
       "      <td>2</td>\n",
       "      <td>0</td>\n",
       "      <td>12</td>\n",
       "      <td>1422</td>\n",
       "    </tr>\n",
       "    <tr>\n",
       "      <th>3</th>\n",
       "      <td>1000001</td>\n",
       "      <td>P00085442</td>\n",
       "      <td>F</td>\n",
       "      <td>0-17</td>\n",
       "      <td>10</td>\n",
       "      <td>A</td>\n",
       "      <td>2</td>\n",
       "      <td>0</td>\n",
       "      <td>12</td>\n",
       "      <td>1057</td>\n",
       "    </tr>\n",
       "    <tr>\n",
       "      <th>4</th>\n",
       "      <td>1000002</td>\n",
       "      <td>P00285442</td>\n",
       "      <td>M</td>\n",
       "      <td>55+</td>\n",
       "      <td>16</td>\n",
       "      <td>C</td>\n",
       "      <td>4+</td>\n",
       "      <td>0</td>\n",
       "      <td>8</td>\n",
       "      <td>7969</td>\n",
       "    </tr>\n",
       "  </tbody>\n",
       "</table>\n",
       "</div>"
      ],
      "text/plain": [
       "   User_ID Product_ID Gender   Age  Occupation City_Category  \\\n",
       "0  1000001  P00069042      F  0-17          10             A   \n",
       "1  1000001  P00248942      F  0-17          10             A   \n",
       "2  1000001  P00087842      F  0-17          10             A   \n",
       "3  1000001  P00085442      F  0-17          10             A   \n",
       "4  1000002  P00285442      M   55+          16             C   \n",
       "\n",
       "  Stay_In_Current_City_Years  Marital_Status  Product_Category  Purchase  \n",
       "0                          2               0                 3      8370  \n",
       "1                          2               0                 1     15200  \n",
       "2                          2               0                12      1422  \n",
       "3                          2               0                12      1057  \n",
       "4                         4+               0                 8      7969  "
      ]
     },
     "execution_count": 4,
     "metadata": {},
     "output_type": "execute_result"
    }
   ],
   "source": [
    "df.head()"
   ]
  },
  {
   "cell_type": "markdown",
   "id": "ee08b5fe-feea-4843-95d7-a21ae6d2bd6c",
   "metadata": {},
   "source": [
    "## Checking the structure & characteristics of the dataset"
   ]
  },
  {
   "cell_type": "code",
   "execution_count": 5,
   "id": "9badc9db-e25a-423b-bd9c-71e9ff80230f",
   "metadata": {},
   "outputs": [
    {
     "data": {
      "text/plain": [
       "550068"
      ]
     },
     "execution_count": 5,
     "metadata": {},
     "output_type": "execute_result"
    }
   ],
   "source": [
    "#length of data\n",
    "len(df)"
   ]
  },
  {
   "cell_type": "code",
   "execution_count": 6,
   "id": "5e1c526a-e72a-44f8-acd0-0c5717a02b29",
   "metadata": {},
   "outputs": [
    {
     "data": {
      "text/plain": [
       "(550068, 10)"
      ]
     },
     "execution_count": 6,
     "metadata": {},
     "output_type": "execute_result"
    }
   ],
   "source": [
    "df.shape"
   ]
  },
  {
   "cell_type": "code",
   "execution_count": 7,
   "id": "22e0ef23-a21c-4a54-bf8f-cb997b387065",
   "metadata": {},
   "outputs": [
    {
     "name": "stdout",
     "output_type": "stream",
     "text": [
      "<class 'pandas.core.frame.DataFrame'>\n",
      "RangeIndex: 550068 entries, 0 to 550067\n",
      "Data columns (total 10 columns):\n",
      " #   Column                      Non-Null Count   Dtype \n",
      "---  ------                      --------------   ----- \n",
      " 0   User_ID                     550068 non-null  int64 \n",
      " 1   Product_ID                  550068 non-null  object\n",
      " 2   Gender                      550068 non-null  object\n",
      " 3   Age                         550068 non-null  object\n",
      " 4   Occupation                  550068 non-null  int64 \n",
      " 5   City_Category               550068 non-null  object\n",
      " 6   Stay_In_Current_City_Years  550068 non-null  object\n",
      " 7   Marital_Status              550068 non-null  int64 \n",
      " 8   Product_Category            550068 non-null  int64 \n",
      " 9   Purchase                    550068 non-null  int64 \n",
      "dtypes: int64(5), object(5)\n",
      "memory usage: 42.0+ MB\n"
     ]
    }
   ],
   "source": [
    "df.info()"
   ]
  },
  {
   "cell_type": "code",
   "execution_count": 8,
   "id": "1ac80471-a555-4800-8ffb-8539af5c4f3f",
   "metadata": {},
   "outputs": [
    {
     "data": {
      "text/plain": [
       "User_ID                       0\n",
       "Product_ID                    0\n",
       "Gender                        0\n",
       "Age                           0\n",
       "Occupation                    0\n",
       "City_Category                 0\n",
       "Stay_In_Current_City_Years    0\n",
       "Marital_Status                0\n",
       "Product_Category              0\n",
       "Purchase                      0\n",
       "dtype: int64"
      ]
     },
     "execution_count": 8,
     "metadata": {},
     "output_type": "execute_result"
    }
   ],
   "source": [
    "df.isna().sum() # Checking for the missing values"
   ]
  },
  {
   "cell_type": "code",
   "execution_count": 9,
   "id": "9aee223a-5286-4e61-8a02-62056b1c97e2",
   "metadata": {},
   "outputs": [
    {
     "data": {
      "text/plain": [
       "Index(['User_ID', 'Product_ID', 'Gender', 'Age', 'Occupation', 'City_Category',\n",
       "       'Stay_In_Current_City_Years', 'Marital_Status', 'Product_Category',\n",
       "       'Purchase'],\n",
       "      dtype='object')"
      ]
     },
     "execution_count": 9,
     "metadata": {},
     "output_type": "execute_result"
    }
   ],
   "source": [
    "df.columns"
   ]
  },
  {
   "cell_type": "code",
   "execution_count": 10,
   "id": "7d2a3c25-0f19-47d0-87ff-76a62ab70a33",
   "metadata": {},
   "outputs": [
    {
     "data": {
      "text/plain": [
       "User_ID                        int64\n",
       "Product_ID                    object\n",
       "Gender                        object\n",
       "Age                           object\n",
       "Occupation                     int64\n",
       "City_Category                 object\n",
       "Stay_In_Current_City_Years    object\n",
       "Marital_Status                 int64\n",
       "Product_Category               int64\n",
       "Purchase                       int64\n",
       "dtype: object"
      ]
     },
     "execution_count": 10,
     "metadata": {},
     "output_type": "execute_result"
    }
   ],
   "source": [
    "#checking dtypes\n",
    "df.dtypes"
   ]
  },
  {
   "cell_type": "code",
   "execution_count": 11,
   "id": "e7e8b6d5-b9dd-475d-aaec-61297ba53a61",
   "metadata": {},
   "outputs": [
    {
     "data": {
      "text/plain": [
       "(7, 2)"
      ]
     },
     "execution_count": 11,
     "metadata": {},
     "output_type": "execute_result"
    }
   ],
   "source": [
    "df['Age'].nunique(), df['Gender'].nunique()"
   ]
  },
  {
   "cell_type": "code",
   "execution_count": 12,
   "id": "55ca3e2d-041f-427a-86eb-81e2028ec7cd",
   "metadata": {},
   "outputs": [
    {
     "data": {
      "text/plain": [
       "City_Category\n",
       "B    231173\n",
       "C    171175\n",
       "A    147720\n",
       "Name: count, dtype: int64"
      ]
     },
     "execution_count": 12,
     "metadata": {},
     "output_type": "execute_result"
    }
   ],
   "source": [
    "df['City_Category'].value_counts()"
   ]
  },
  {
   "cell_type": "code",
   "execution_count": 13,
   "id": "71b87619-6bf1-435e-8f45-d12c07a40ba1",
   "metadata": {},
   "outputs": [
    {
     "data": {
      "text/plain": [
       "(Occupation\n",
       " 4     72308\n",
       " 0     69638\n",
       " 7     59133\n",
       " 1     47426\n",
       " 17    40043\n",
       " 20    33562\n",
       " 12    31179\n",
       " 14    27309\n",
       " 2     26588\n",
       " 16    25371\n",
       " 6     20355\n",
       " 3     17650\n",
       " 10    12930\n",
       " 5     12177\n",
       " 15    12165\n",
       " 11    11586\n",
       " 19     8461\n",
       " 13     7728\n",
       " 18     6622\n",
       " 9      6291\n",
       " 8      1546\n",
       " Name: count, dtype: int64,\n",
       " 21)"
      ]
     },
     "execution_count": 13,
     "metadata": {},
     "output_type": "execute_result"
    }
   ],
   "source": [
    "df['Occupation'].value_counts(), df['Occupation'].nunique()"
   ]
  },
  {
   "cell_type": "code",
   "execution_count": 14,
   "id": "0b89b84b-90cc-41b2-9961-376b30fc09c4",
   "metadata": {},
   "outputs": [
    {
     "data": {
      "text/plain": [
       "(Stay_In_Current_City_Years\n",
       " 1     193821\n",
       " 2     101838\n",
       " 3      95285\n",
       " 4+     84726\n",
       " 0      74398\n",
       " Name: count, dtype: int64,\n",
       " 5)"
      ]
     },
     "execution_count": 14,
     "metadata": {},
     "output_type": "execute_result"
    }
   ],
   "source": [
    "df['Stay_In_Current_City_Years'].value_counts(), df['Stay_In_Current_City_Years'].nunique()"
   ]
  },
  {
   "cell_type": "code",
   "execution_count": 15,
   "id": "9ffcd06a-13dd-4dd7-8256-18e5372b3ae7",
   "metadata": {},
   "outputs": [
    {
     "data": {
      "text/plain": [
       "(Product_Category\n",
       " 5     150933\n",
       " 1     140378\n",
       " 8     113925\n",
       " 11     24287\n",
       " 2      23864\n",
       " 6      20466\n",
       " 3      20213\n",
       " 4      11753\n",
       " 16      9828\n",
       " 15      6290\n",
       " 13      5549\n",
       " 10      5125\n",
       " 12      3947\n",
       " 7       3721\n",
       " 18      3125\n",
       " 20      2550\n",
       " 19      1603\n",
       " 14      1523\n",
       " 17       578\n",
       " 9        410\n",
       " Name: count, dtype: int64,\n",
       " 20)"
      ]
     },
     "execution_count": 15,
     "metadata": {},
     "output_type": "execute_result"
    }
   ],
   "source": [
    "df['Product_Category'].value_counts(), df['Product_Category'].nunique()"
   ]
  },
  {
   "cell_type": "markdown",
   "id": "5620951a-06c9-45c5-b974-a05201925c76",
   "metadata": {},
   "source": [
    "## Detecting and handling of Outliers \n",
    "### Detecting Outliers"
   ]
  },
  {
   "cell_type": "code",
   "execution_count": 16,
   "id": "39edd859-4a9a-4e9b-a264-2bcfe6d45c61",
   "metadata": {},
   "outputs": [],
   "source": [
    "# Continuous Variables: Age, Purchase\n",
    "# here Age is represented in ranges\n",
    "# categorical Variables: User_ID, Product_ID, Gender, Occupation, City_Category, Stay_In_Current_City_Years, Marital_Status and Product_Category"
   ]
  },
  {
   "cell_type": "code",
   "execution_count": 17,
   "id": "de3a3f7a-3692-46ca-a593-707e0bf64f7f",
   "metadata": {},
   "outputs": [
    {
     "data": {
      "text/plain": [
       "count     550068\n",
       "unique         7\n",
       "top        26-35\n",
       "freq      219587\n",
       "Name: Age, dtype: object"
      ]
     },
     "execution_count": 17,
     "metadata": {},
     "output_type": "execute_result"
    }
   ],
   "source": [
    "df['Age'].describe()"
   ]
  },
  {
   "cell_type": "code",
   "execution_count": 18,
   "id": "aa05e3bd-b8fa-419a-9598-72790aca2b2f",
   "metadata": {},
   "outputs": [
    {
     "data": {
      "text/plain": [
       "array(['0-17', '55+', '26-35', '46-50', '51-55', '36-45', '18-25'],\n",
       "      dtype=object)"
      ]
     },
     "execution_count": 18,
     "metadata": {},
     "output_type": "execute_result"
    }
   ],
   "source": [
    "df['Age'].unique()"
   ]
  },
  {
   "cell_type": "code",
   "execution_count": 19,
   "id": "b29e9cb1-1bda-4e12-9dae-fd031e71a370",
   "metadata": {},
   "outputs": [
    {
     "data": {
      "text/plain": [
       "Age\n",
       "26-35    219587\n",
       "36-45    110013\n",
       "18-25     99660\n",
       "46-50     45701\n",
       "51-55     38501\n",
       "55+       21504\n",
       "0-17      15102\n",
       "Name: count, dtype: int64"
      ]
     },
     "execution_count": 19,
     "metadata": {},
     "output_type": "execute_result"
    }
   ],
   "source": [
    "df['Age'].value_counts()"
   ]
  },
  {
   "cell_type": "code",
   "execution_count": 20,
   "id": "ec08f68a-fc2f-4c4c-a85b-311c06232629",
   "metadata": {},
   "outputs": [
    {
     "data": {
      "text/plain": [
       "<Axes: xlabel='Age'>"
      ]
     },
     "execution_count": 20,
     "metadata": {},
     "output_type": "execute_result"
    },
    {
     "data": {
      "image/png": "[encoded data removed]",
      "text/plain": [
       "<Figure size 640x480 with 1 Axes>"
      ]
     },
     "metadata": {},
     "output_type": "display_data"
    }
   ],
   "source": [
    "sns.boxplot(data = df['Age'], orient = \"h\")"
   ]
  },
  {
   "cell_type": "markdown",
   "id": "7df1c7e3-4da7-4245-9299-d85750d512e7",
   "metadata": {},
   "source": [
    "There are no outliers present in the data and 50% of data present before & after the 46-50 age group.\n",
    "50% of data related to age groups between 26-35 and 36-55 age groups"
   ]
  },
  {
   "cell_type": "code",
   "execution_count": 21,
   "id": "61762ab2-76ef-4420-9619-06225a664ba8",
   "metadata": {},
   "outputs": [
    {
     "data": {
      "text/plain": [
       "<Axes: xlabel='Purchase'>"
      ]
     },
     "execution_count": 21,
     "metadata": {},
     "output_type": "execute_result"
    },
    {
     "data": {
      "image/png": "[encoded data removed]",
      "text/plain": [
       "<Figure size 640x480 with 1 Axes>"
      ]
     },
     "metadata": {},
     "output_type": "display_data"
    }
   ],
   "source": [
    "sns.boxplot(data = df['Purchase'], orient = \"h\")"
   ]
  },
  {
   "cell_type": "markdown",
   "id": "4d19d7a9-2c28-4c4f-b48d-31a7371b03d0",
   "metadata": {},
   "source": [
    "There are outliers present in the data and most of the purchase amount fall between 5000 to 13000."
   ]
  },
  {
   "cell_type": "code",
   "execution_count": 22,
   "id": "a51965c8-4f1d-4782-a7e9-1627862e523f",
   "metadata": {},
   "outputs": [
    {
     "data": {
      "text/plain": [
       "6231.0"
      ]
     },
     "execution_count": 22,
     "metadata": {},
     "output_type": "execute_result"
    }
   ],
   "source": [
    "# Calculate outliers based on Purchase using IQR method\n",
    "Q1 = df['Purchase'].quantile(0.25)\n",
    "Q3 = df['Purchase'].quantile(0.75)\n",
    "IQR = Q3 - Q1\n",
    "IQR"
   ]
  },
  {
   "cell_type": "code",
   "execution_count": 23,
   "id": "c4f52c95-bb8b-47a4-ad35-789f8623dd45",
   "metadata": {},
   "outputs": [
    {
     "name": "stdout",
     "output_type": "stream",
     "text": [
      "-3523.5 21400.5 2677\n"
     ]
    }
   ],
   "source": [
    "# Define lower and upper bounds for outliers\n",
    "lower_bound = Q1 - 1.5 * IQR\n",
    "upper_bound = Q3 + 1.5 * IQR\n",
    "\n",
    "# Find outliers\n",
    "outliers = df[(df['Purchase'] < lower_bound) | (df['Purchase'] > upper_bound)]\n",
    "\n",
    "# Count outliers\n",
    "num_outliers = len(outliers)\n",
    "print(lower_bound, upper_bound, num_outliers)"
   ]
  },
  {
   "cell_type": "code",
   "execution_count": 24,
   "id": "ba7600c4-0df3-4c9f-819f-f5e58efeeab3",
   "metadata": {},
   "outputs": [
    {
     "data": {
      "text/html": [
       "<div>\n",
       "<style scoped>\n",
       "    .dataframe tbody tr th:only-of-type {\n",
       "        vertical-align: middle;\n",
       "    }\n",
       "\n",
       "    .dataframe tbody tr th {\n",
       "        vertical-align: top;\n",
       "    }\n",
       "\n",
       "    .dataframe thead th {\n",
       "        text-align: right;\n",
       "    }\n",
       "</style>\n",
       "<table border=\"1\" class=\"dataframe\">\n",
       "  <thead>\n",
       "    <tr style=\"text-align: right;\">\n",
       "      <th></th>\n",
       "      <th>User_ID</th>\n",
       "      <th>Product_ID</th>\n",
       "      <th>Gender</th>\n",
       "      <th>Age</th>\n",
       "      <th>Occupation</th>\n",
       "      <th>City_Category</th>\n",
       "      <th>Stay_In_Current_City_Years</th>\n",
       "      <th>Marital_Status</th>\n",
       "      <th>Product_Category</th>\n",
       "      <th>Purchase</th>\n",
       "    </tr>\n",
       "  </thead>\n",
       "  <tbody>\n",
       "    <tr>\n",
       "      <th>343</th>\n",
       "      <td>1000058</td>\n",
       "      <td>P00117642</td>\n",
       "      <td>M</td>\n",
       "      <td>26-35</td>\n",
       "      <td>2</td>\n",
       "      <td>B</td>\n",
       "      <td>3</td>\n",
       "      <td>0</td>\n",
       "      <td>10</td>\n",
       "      <td>23603</td>\n",
       "    </tr>\n",
       "    <tr>\n",
       "      <th>375</th>\n",
       "      <td>1000062</td>\n",
       "      <td>P00119342</td>\n",
       "      <td>F</td>\n",
       "      <td>36-45</td>\n",
       "      <td>3</td>\n",
       "      <td>A</td>\n",
       "      <td>1</td>\n",
       "      <td>0</td>\n",
       "      <td>10</td>\n",
       "      <td>23792</td>\n",
       "    </tr>\n",
       "    <tr>\n",
       "      <th>652</th>\n",
       "      <td>1000126</td>\n",
       "      <td>P00087042</td>\n",
       "      <td>M</td>\n",
       "      <td>18-25</td>\n",
       "      <td>9</td>\n",
       "      <td>B</td>\n",
       "      <td>1</td>\n",
       "      <td>0</td>\n",
       "      <td>10</td>\n",
       "      <td>23233</td>\n",
       "    </tr>\n",
       "    <tr>\n",
       "      <th>736</th>\n",
       "      <td>1000139</td>\n",
       "      <td>P00159542</td>\n",
       "      <td>F</td>\n",
       "      <td>26-35</td>\n",
       "      <td>20</td>\n",
       "      <td>C</td>\n",
       "      <td>2</td>\n",
       "      <td>0</td>\n",
       "      <td>10</td>\n",
       "      <td>23595</td>\n",
       "    </tr>\n",
       "    <tr>\n",
       "      <th>1041</th>\n",
       "      <td>1000175</td>\n",
       "      <td>P00052842</td>\n",
       "      <td>F</td>\n",
       "      <td>26-35</td>\n",
       "      <td>2</td>\n",
       "      <td>B</td>\n",
       "      <td>1</td>\n",
       "      <td>0</td>\n",
       "      <td>10</td>\n",
       "      <td>23341</td>\n",
       "    </tr>\n",
       "    <tr>\n",
       "      <th>...</th>\n",
       "      <td>...</td>\n",
       "      <td>...</td>\n",
       "      <td>...</td>\n",
       "      <td>...</td>\n",
       "      <td>...</td>\n",
       "      <td>...</td>\n",
       "      <td>...</td>\n",
       "      <td>...</td>\n",
       "      <td>...</td>\n",
       "      <td>...</td>\n",
       "    </tr>\n",
       "    <tr>\n",
       "      <th>544488</th>\n",
       "      <td>1005815</td>\n",
       "      <td>P00116142</td>\n",
       "      <td>M</td>\n",
       "      <td>26-35</td>\n",
       "      <td>20</td>\n",
       "      <td>B</td>\n",
       "      <td>1</td>\n",
       "      <td>0</td>\n",
       "      <td>10</td>\n",
       "      <td>23753</td>\n",
       "    </tr>\n",
       "    <tr>\n",
       "      <th>544704</th>\n",
       "      <td>1005847</td>\n",
       "      <td>P00085342</td>\n",
       "      <td>F</td>\n",
       "      <td>18-25</td>\n",
       "      <td>4</td>\n",
       "      <td>B</td>\n",
       "      <td>2</td>\n",
       "      <td>0</td>\n",
       "      <td>10</td>\n",
       "      <td>23724</td>\n",
       "    </tr>\n",
       "    <tr>\n",
       "      <th>544743</th>\n",
       "      <td>1005852</td>\n",
       "      <td>P00202242</td>\n",
       "      <td>F</td>\n",
       "      <td>26-35</td>\n",
       "      <td>1</td>\n",
       "      <td>A</td>\n",
       "      <td>0</td>\n",
       "      <td>1</td>\n",
       "      <td>10</td>\n",
       "      <td>23529</td>\n",
       "    </tr>\n",
       "    <tr>\n",
       "      <th>545663</th>\n",
       "      <td>1006002</td>\n",
       "      <td>P00116142</td>\n",
       "      <td>M</td>\n",
       "      <td>51-55</td>\n",
       "      <td>0</td>\n",
       "      <td>C</td>\n",
       "      <td>1</td>\n",
       "      <td>1</td>\n",
       "      <td>10</td>\n",
       "      <td>23663</td>\n",
       "    </tr>\n",
       "    <tr>\n",
       "      <th>545787</th>\n",
       "      <td>1006018</td>\n",
       "      <td>P00052842</td>\n",
       "      <td>M</td>\n",
       "      <td>36-45</td>\n",
       "      <td>1</td>\n",
       "      <td>C</td>\n",
       "      <td>3</td>\n",
       "      <td>0</td>\n",
       "      <td>10</td>\n",
       "      <td>23496</td>\n",
       "    </tr>\n",
       "  </tbody>\n",
       "</table>\n",
       "<p>2677 rows × 10 columns</p>\n",
       "</div>"
      ],
      "text/plain": [
       "        User_ID Product_ID Gender    Age  Occupation City_Category  \\\n",
       "343     1000058  P00117642      M  26-35           2             B   \n",
       "375     1000062  P00119342      F  36-45           3             A   \n",
       "652     1000126  P00087042      M  18-25           9             B   \n",
       "736     1000139  P00159542      F  26-35          20             C   \n",
       "1041    1000175  P00052842      F  26-35           2             B   \n",
       "...         ...        ...    ...    ...         ...           ...   \n",
       "544488  1005815  P00116142      M  26-35          20             B   \n",
       "544704  1005847  P00085342      F  18-25           4             B   \n",
       "544743  1005852  P00202242      F  26-35           1             A   \n",
       "545663  1006002  P00116142      M  51-55           0             C   \n",
       "545787  1006018  P00052842      M  36-45           1             C   \n",
       "\n",
       "       Stay_In_Current_City_Years  Marital_Status  Product_Category  Purchase  \n",
       "343                             3               0                10     23603  \n",
       "375                             1               0                10     23792  \n",
       "652                             1               0                10     23233  \n",
       "736                             2               0                10     23595  \n",
       "1041                            1               0                10     23341  \n",
       "...                           ...             ...               ...       ...  \n",
       "544488                          1               0                10     23753  \n",
       "544704                          2               0                10     23724  \n",
       "544743                          0               1                10     23529  \n",
       "545663                          1               1                10     23663  \n",
       "545787                          3               0                10     23496  \n",
       "\n",
       "[2677 rows x 10 columns]"
      ]
     },
     "execution_count": 24,
     "metadata": {},
     "output_type": "execute_result"
    }
   ],
   "source": [
    "outliers"
   ]
  },
  {
   "cell_type": "code",
   "execution_count": 25,
   "id": "02e0c36c-0c2a-43db-afd6-d64dde63f37e",
   "metadata": {},
   "outputs": [],
   "source": [
    "# Cliping the data between whiskers of a box plot\n",
    "# df['Purchase'] = df['Purchase'].clip(lower=lower_bound, upper=upper_bound)"
   ]
  },
  {
   "cell_type": "markdown",
   "id": "8a0327bd-c33d-4e08-a1de-a5e89688839b",
   "metadata": {},
   "source": [
    "### Cliping the data between the 5 percentile and 95 percentile"
   ]
  },
  {
   "cell_type": "code",
   "execution_count": 26,
   "id": "29d906e3-f616-47f6-a40d-35f57b0255fb",
   "metadata": {},
   "outputs": [
    {
     "data": {
      "text/plain": [
       "(1984.0, 19336.0)"
      ]
     },
     "execution_count": 26,
     "metadata": {},
     "output_type": "execute_result"
    }
   ],
   "source": [
    "# Calculate 5th and 95th percentiles\n",
    "p5 = np.percentile(df['Purchase'], 5)\n",
    "p95 = np.percentile(df['Purchase'], 95)\n",
    "p5, p95"
   ]
  },
  {
   "cell_type": "code",
   "execution_count": 27,
   "id": "7c6a788e-a5ea-455c-b57e-df919183c10a",
   "metadata": {},
   "outputs": [],
   "source": [
    "# Cliping the data between the 5 percentile and 95 percentile\n",
    "clipped_data = pd.DataFrame(np.clip(df['Purchase'], p5, p95))"
   ]
  },
  {
   "cell_type": "code",
   "execution_count": 28,
   "id": "956dc28d-20d8-4a53-a45b-6ef0007d2645",
   "metadata": {},
   "outputs": [
    {
     "data": {
      "text/html": [
       "<div>\n",
       "<style scoped>\n",
       "    .dataframe tbody tr th:only-of-type {\n",
       "        vertical-align: middle;\n",
       "    }\n",
       "\n",
       "    .dataframe tbody tr th {\n",
       "        vertical-align: top;\n",
       "    }\n",
       "\n",
       "    .dataframe thead th {\n",
       "        text-align: right;\n",
       "    }\n",
       "</style>\n",
       "<table border=\"1\" class=\"dataframe\">\n",
       "  <thead>\n",
       "    <tr style=\"text-align: right;\">\n",
       "      <th></th>\n",
       "      <th>Purchase</th>\n",
       "    </tr>\n",
       "  </thead>\n",
       "  <tbody>\n",
       "    <tr>\n",
       "      <th>0</th>\n",
       "      <td>8370</td>\n",
       "    </tr>\n",
       "    <tr>\n",
       "      <th>1</th>\n",
       "      <td>15200</td>\n",
       "    </tr>\n",
       "    <tr>\n",
       "      <th>2</th>\n",
       "      <td>1984</td>\n",
       "    </tr>\n",
       "    <tr>\n",
       "      <th>3</th>\n",
       "      <td>1984</td>\n",
       "    </tr>\n",
       "    <tr>\n",
       "      <th>4</th>\n",
       "      <td>7969</td>\n",
       "    </tr>\n",
       "  </tbody>\n",
       "</table>\n",
       "</div>"
      ],
      "text/plain": [
       "   Purchase\n",
       "0      8370\n",
       "1     15200\n",
       "2      1984\n",
       "3      1984\n",
       "4      7969"
      ]
     },
     "execution_count": 28,
     "metadata": {},
     "output_type": "execute_result"
    }
   ],
   "source": [
    "clipped_data.head()"
   ]
  },
  {
   "cell_type": "code",
   "execution_count": 29,
   "id": "bd70b989-abae-4a77-bf98-751efd34d98f",
   "metadata": {},
   "outputs": [
    {
     "data": {
      "text/plain": [
       "RangeIndex(start=0, stop=550068, step=1)"
      ]
     },
     "execution_count": 29,
     "metadata": {},
     "output_type": "execute_result"
    }
   ],
   "source": [
    "clipped_data.index"
   ]
  },
  {
   "cell_type": "code",
   "execution_count": 30,
   "id": "069f01d3-d143-4363-a498-614bca353556",
   "metadata": {},
   "outputs": [],
   "source": [
    "df['no.'] = df.index + 1\n",
    "clipped_data['no.'] = clipped_data.index +1"
   ]
  },
  {
   "cell_type": "code",
   "execution_count": 31,
   "id": "78ac33ea-7258-4a21-a149-4f817195eedd",
   "metadata": {},
   "outputs": [
    {
     "data": {
      "text/html": [
       "<div>\n",
       "<style scoped>\n",
       "    .dataframe tbody tr th:only-of-type {\n",
       "        vertical-align: middle;\n",
       "    }\n",
       "\n",
       "    .dataframe tbody tr th {\n",
       "        vertical-align: top;\n",
       "    }\n",
       "\n",
       "    .dataframe thead th {\n",
       "        text-align: right;\n",
       "    }\n",
       "</style>\n",
       "<table border=\"1\" class=\"dataframe\">\n",
       "  <thead>\n",
       "    <tr style=\"text-align: right;\">\n",
       "      <th></th>\n",
       "      <th>Purchase</th>\n",
       "      <th>no.</th>\n",
       "    </tr>\n",
       "  </thead>\n",
       "  <tbody>\n",
       "    <tr>\n",
       "      <th>0</th>\n",
       "      <td>8370</td>\n",
       "      <td>1</td>\n",
       "    </tr>\n",
       "    <tr>\n",
       "      <th>1</th>\n",
       "      <td>15200</td>\n",
       "      <td>2</td>\n",
       "    </tr>\n",
       "    <tr>\n",
       "      <th>2</th>\n",
       "      <td>1984</td>\n",
       "      <td>3</td>\n",
       "    </tr>\n",
       "    <tr>\n",
       "      <th>3</th>\n",
       "      <td>1984</td>\n",
       "      <td>4</td>\n",
       "    </tr>\n",
       "    <tr>\n",
       "      <th>4</th>\n",
       "      <td>7969</td>\n",
       "      <td>5</td>\n",
       "    </tr>\n",
       "  </tbody>\n",
       "</table>\n",
       "</div>"
      ],
      "text/plain": [
       "   Purchase  no.\n",
       "0      8370    1\n",
       "1     15200    2\n",
       "2      1984    3\n",
       "3      1984    4\n",
       "4      7969    5"
      ]
     },
     "execution_count": 31,
     "metadata": {},
     "output_type": "execute_result"
    }
   ],
   "source": [
    "clipped_data.head()"
   ]
  },
  {
   "cell_type": "code",
   "execution_count": 32,
   "id": "f01f5667-7938-441f-9d2d-8670d60f0d79",
   "metadata": {},
   "outputs": [],
   "source": [
    "w_df = df.merge(clipped_data, how = 'inner', on = 'no.')"
   ]
  },
  {
   "cell_type": "code",
   "execution_count": 33,
   "id": "d6a5de10-3572-4c94-a3de-b581abd3830a",
   "metadata": {},
   "outputs": [],
   "source": [
    "w_df.drop(['Purchase_x', 'no.'] , axis = 1, inplace = True)\n",
    "df.drop('no.', axis = 1, inplace = True)"
   ]
  },
  {
   "cell_type": "code",
   "execution_count": 34,
   "id": "4aed560f-80b3-493f-af1d-148bd653d7b1",
   "metadata": {},
   "outputs": [],
   "source": [
    "w_df.rename({'Purchase_y' : 'Purchase'}, axis = 1, inplace = True)"
   ]
  },
  {
   "cell_type": "code",
   "execution_count": 35,
   "id": "cff9a33f-d27d-487d-8570-418cdbbe03c2",
   "metadata": {},
   "outputs": [
    {
     "data": {
      "text/html": [
       "<div>\n",
       "<style scoped>\n",
       "    .dataframe tbody tr th:only-of-type {\n",
       "        vertical-align: middle;\n",
       "    }\n",
       "\n",
       "    .dataframe tbody tr th {\n",
       "        vertical-align: top;\n",
       "    }\n",
       "\n",
       "    .dataframe thead th {\n",
       "        text-align: right;\n",
       "    }\n",
       "</style>\n",
       "<table border=\"1\" class=\"dataframe\">\n",
       "  <thead>\n",
       "    <tr style=\"text-align: right;\">\n",
       "      <th></th>\n",
       "      <th>User_ID</th>\n",
       "      <th>Product_ID</th>\n",
       "      <th>Gender</th>\n",
       "      <th>Age</th>\n",
       "      <th>Occupation</th>\n",
       "      <th>City_Category</th>\n",
       "      <th>Stay_In_Current_City_Years</th>\n",
       "      <th>Marital_Status</th>\n",
       "      <th>Product_Category</th>\n",
       "      <th>Purchase</th>\n",
       "    </tr>\n",
       "  </thead>\n",
       "  <tbody>\n",
       "    <tr>\n",
       "      <th>0</th>\n",
       "      <td>1000001</td>\n",
       "      <td>P00069042</td>\n",
       "      <td>F</td>\n",
       "      <td>0-17</td>\n",
       "      <td>10</td>\n",
       "      <td>A</td>\n",
       "      <td>2</td>\n",
       "      <td>0</td>\n",
       "      <td>3</td>\n",
       "      <td>8370</td>\n",
       "    </tr>\n",
       "    <tr>\n",
       "      <th>1</th>\n",
       "      <td>1000001</td>\n",
       "      <td>P00248942</td>\n",
       "      <td>F</td>\n",
       "      <td>0-17</td>\n",
       "      <td>10</td>\n",
       "      <td>A</td>\n",
       "      <td>2</td>\n",
       "      <td>0</td>\n",
       "      <td>1</td>\n",
       "      <td>15200</td>\n",
       "    </tr>\n",
       "    <tr>\n",
       "      <th>2</th>\n",
       "      <td>1000001</td>\n",
       "      <td>P00087842</td>\n",
       "      <td>F</td>\n",
       "      <td>0-17</td>\n",
       "      <td>10</td>\n",
       "      <td>A</td>\n",
       "      <td>2</td>\n",
       "      <td>0</td>\n",
       "      <td>12</td>\n",
       "      <td>1984</td>\n",
       "    </tr>\n",
       "    <tr>\n",
       "      <th>3</th>\n",
       "      <td>1000001</td>\n",
       "      <td>P00085442</td>\n",
       "      <td>F</td>\n",
       "      <td>0-17</td>\n",
       "      <td>10</td>\n",
       "      <td>A</td>\n",
       "      <td>2</td>\n",
       "      <td>0</td>\n",
       "      <td>12</td>\n",
       "      <td>1984</td>\n",
       "    </tr>\n",
       "    <tr>\n",
       "      <th>4</th>\n",
       "      <td>1000002</td>\n",
       "      <td>P00285442</td>\n",
       "      <td>M</td>\n",
       "      <td>55+</td>\n",
       "      <td>16</td>\n",
       "      <td>C</td>\n",
       "      <td>4+</td>\n",
       "      <td>0</td>\n",
       "      <td>8</td>\n",
       "      <td>7969</td>\n",
       "    </tr>\n",
       "  </tbody>\n",
       "</table>\n",
       "</div>"
      ],
      "text/plain": [
       "   User_ID Product_ID Gender   Age  Occupation City_Category  \\\n",
       "0  1000001  P00069042      F  0-17          10             A   \n",
       "1  1000001  P00248942      F  0-17          10             A   \n",
       "2  1000001  P00087842      F  0-17          10             A   \n",
       "3  1000001  P00085442      F  0-17          10             A   \n",
       "4  1000002  P00285442      M   55+          16             C   \n",
       "\n",
       "  Stay_In_Current_City_Years  Marital_Status  Product_Category  Purchase  \n",
       "0                          2               0                 3      8370  \n",
       "1                          2               0                 1     15200  \n",
       "2                          2               0                12      1984  \n",
       "3                          2               0                12      1984  \n",
       "4                         4+               0                 8      7969  "
      ]
     },
     "execution_count": 35,
     "metadata": {},
     "output_type": "execute_result"
    }
   ],
   "source": [
    "w_df.head()"
   ]
  },
  {
   "cell_type": "code",
   "execution_count": 36,
   "id": "ba9ebfcf-6b57-43fb-8017-5a100910fb27",
   "metadata": {},
   "outputs": [
    {
     "data": {
      "text/plain": [
       "User_ID                       0\n",
       "Product_ID                    0\n",
       "Gender                        0\n",
       "Age                           0\n",
       "Occupation                    0\n",
       "City_Category                 0\n",
       "Stay_In_Current_City_Years    0\n",
       "Marital_Status                0\n",
       "Product_Category              0\n",
       "Purchase                      0\n",
       "dtype: int64"
      ]
     },
     "execution_count": 36,
     "metadata": {},
     "output_type": "execute_result"
    }
   ],
   "source": [
    "w_df.isna().sum()"
   ]
  },
  {
   "cell_type": "markdown",
   "id": "5cee7b78-4034-45e1-a35c-064dd14f2ebc",
   "metadata": {},
   "source": [
    "## Data Exploration"
   ]
  },
  {
   "cell_type": "markdown",
   "id": "77c40bf6-bfac-40b8-801f-f95395f6746a",
   "metadata": {},
   "source": [
    "### The relationship between products and age groups"
   ]
  },
  {
   "cell_type": "code",
   "execution_count": 37,
   "id": "c1d402a8-340d-4d34-bdf9-05247c660ca8",
   "metadata": {},
   "outputs": [
    {
     "data": {
      "image/png": "[encoded data removed]",
      "text/plain": [
       "<Figure size 1000x600 with 1 Axes>"
      ]
     },
     "metadata": {},
     "output_type": "display_data"
    }
   ],
   "source": [
    "# What products are different age groups buying?\n",
    "plt.figure(figsize=(10, 6))\n",
    "sns.histplot(data=w_df, x='Age', hue='Product_Category', multiple='stack', palette='Set2', edgecolor = None)\n",
    "plt.title('Product Distribution by Age Group', fontsize=14)\n",
    "plt.xlabel('Age')\n",
    "plt.ylabel('Count for Product_Category') \n",
    "plt.show()"
   ]
  },
  {
   "cell_type": "markdown",
   "id": "9a0acab2-ffdf-40d1-8d0b-76b715e970f9",
   "metadata": {},
   "source": [
    "#### Inference:\n",
    "1. The product categories 1, 5 and 8 are more frequently purchased by all age group individuals. The share in the entire product purcheses category is high as compared with others product categories.\n",
    "2. Overall the more number of products purchased by 26-35 age group individuals, and followed by 36-45 and 18-25 age groups.\n",
    "3. The number of products purchased by 0-17 and 55+ age group individuals is low."
   ]
  },
  {
   "cell_type": "markdown",
   "id": "6b56ac45-e2c0-4cb7-9071-1f725d9ee12e",
   "metadata": {},
   "source": [
    "### Relationship between age, marital status, and the amount spent"
   ]
  },
  {
   "cell_type": "code",
   "execution_count": 38,
   "id": "39a24b7a-9197-4cf4-bf3b-37e852959acc",
   "metadata": {},
   "outputs": [
    {
     "data": {
      "image/png": "[encoded data removed]",
      "text/plain": [
       "<Figure size 1000x600 with 1 Axes>"
      ]
     },
     "metadata": {},
     "output_type": "display_data"
    }
   ],
   "source": [
    "# Multivariate analysis\n",
    "plt.figure(figsize=(10, 6))\n",
    "sns.boxplot(x='Age', y='Purchase', hue='Marital_Status', data=w_df, palette='Set2')\n",
    "plt.title('Boxplot of Purchase by Age Group and Marital Status')\n",
    "plt.xlabel('Age Group')\n",
    "plt.ylabel('Purchase')\n",
    "plt.show()"
   ]
  },
  {
   "cell_type": "markdown",
   "id": "a27916f1-50ff-43cb-ad97-18c1da80e18f",
   "metadata": {},
   "source": [
    "#### Inference\n",
    "1. From the above analysis, single and partnered individuals having almost equal means for all age groups except 0-17 age group, since it consists only unmarried (single) individuals.\n",
    "2. The 55+ age group single individuals purchases more than married individuals."
   ]
  },
  {
   "cell_type": "markdown",
   "id": "c5fd217d-c09f-4cb7-98e6-b156dbea1708",
   "metadata": {},
   "source": [
    "### The preferred product categories for genders"
   ]
  },
  {
   "cell_type": "code",
   "execution_count": 39,
   "id": "3a4e4915-2db6-4b54-81e5-07b3d985642b",
   "metadata": {},
   "outputs": [
    {
     "data": {
      "image/png": "[encoded data removed]",
      "text/plain": [
       "<Figure size 1000x500 with 1 Axes>"
      ]
     },
     "metadata": {},
     "output_type": "display_data"
    }
   ],
   "source": [
    "plt.figure(figsize=(10, 5))\n",
    "sns.histplot(data=w_df, x='Product_Category', hue='Gender', multiple='stack', palette='Set2', edgecolor = None)\n",
    "plt.title('Product Distribution by Gender', fontsize=14)\n",
    "plt.xlabel('Product_Category')\n",
    "plt.ylabel('Count for Product_Category') \n",
    "plt.show()"
   ]
  },
  {
   "cell_type": "markdown",
   "id": "43bce2af-f8e5-4c32-b6a4-b27b9165c269",
   "metadata": {},
   "source": [
    "#### Inference:\n",
    "1. The product categories 1,5 and 8 more frequently brought by male customers than females.\n",
    "2. overall the number of products brought by male customers is more than female for each product category."
   ]
  },
  {
   "cell_type": "markdown",
   "id": "9bbe799e-0ef7-48ad-bce9-c07c7a240e4f",
   "metadata": {},
   "source": [
    "## The affect of gender on amount spent :"
   ]
  },
  {
   "cell_type": "markdown",
   "id": "8f694c62-6f99-4266-a727-a68566dd348d",
   "metadata": {},
   "source": [
    "### Confidence Intervals (CI) for the average amount spent per gender"
   ]
  },
  {
   "cell_type": "markdown",
   "id": "66256930-a3b9-4840-b794-b2a992fddd74",
   "metadata": {},
   "source": [
    "Using bootstrapping to compute the 95% confidence intervals (CI) for the average amount spent per gender"
   ]
  },
  {
   "cell_type": "code",
   "execution_count": 47,
   "id": "60d30b86-96f4-477e-b136-724f322709a9",
   "metadata": {},
   "outputs": [
    {
     "data": {
      "text/plain": [
       "Gender\n",
       "M    0.753105\n",
       "F    0.246895\n",
       "Name: proportion, dtype: float64"
      ]
     },
     "execution_count": 47,
     "metadata": {},
     "output_type": "execute_result"
    }
   ],
   "source": [
    "w_df['Gender'].value_counts(normalize = True) "
   ]
  },
  {
   "cell_type": "code",
   "execution_count": 45,
   "id": "03e3e0c7-96dd-46f9-911f-26486f446d38",
   "metadata": {},
   "outputs": [
    {
     "data": {
      "text/plain": [
       "Gender\n",
       "F    1666\n",
       "M    4225\n",
       "Name: User_ID, dtype: int64"
      ]
     },
     "execution_count": 45,
     "metadata": {},
     "output_type": "execute_result"
    }
   ],
   "source": [
    "w_df.groupby('Gender')['User_ID'].nunique()"
   ]
  },
  {
   "cell_type": "code",
   "execution_count": 40,
   "id": "44ea4fc9-c7df-488a-b1ab-1b94d736c9bf",
   "metadata": {},
   "outputs": [
    {
     "data": {
      "text/plain": [
       "9427.240996574606"
      ]
     },
     "execution_count": 40,
     "metadata": {},
     "output_type": "execute_result"
    }
   ],
   "source": [
    " w_df[w_df['Gender'] == 'M']['Purchase'].mean()"
   ]
  },
  {
   "cell_type": "code",
   "execution_count": 41,
   "id": "46e921fb-1722-4397-a755-334b04d4588c",
   "metadata": {},
   "outputs": [
    {
     "data": {
      "text/plain": [
       "8736.540266109021"
      ]
     },
     "execution_count": 41,
     "metadata": {},
     "output_type": "execute_result"
    }
   ],
   "source": [
    " w_df[w_df['Gender'] == 'F']['Purchase'].mean()"
   ]
  },
  {
   "cell_type": "code",
   "execution_count": 43,
   "id": "9e0abcc7-cbdd-409e-9673-703367d1a67a",
   "metadata": {},
   "outputs": [
    {
     "data": {
      "text/html": [
       "<div>\n",
       "<style scoped>\n",
       "    .dataframe tbody tr th:only-of-type {\n",
       "        vertical-align: middle;\n",
       "    }\n",
       "\n",
       "    .dataframe tbody tr th {\n",
       "        vertical-align: top;\n",
       "    }\n",
       "\n",
       "    .dataframe thead th {\n",
       "        text-align: right;\n",
       "    }\n",
       "</style>\n",
       "<table border=\"1\" class=\"dataframe\">\n",
       "  <thead>\n",
       "    <tr style=\"text-align: right;\">\n",
       "      <th></th>\n",
       "      <th>count</th>\n",
       "      <th>mean</th>\n",
       "      <th>std</th>\n",
       "      <th>min</th>\n",
       "      <th>25%</th>\n",
       "      <th>50%</th>\n",
       "      <th>75%</th>\n",
       "      <th>max</th>\n",
       "    </tr>\n",
       "    <tr>\n",
       "      <th>Gender</th>\n",
       "      <th></th>\n",
       "      <th></th>\n",
       "      <th></th>\n",
       "      <th></th>\n",
       "      <th></th>\n",
       "      <th></th>\n",
       "      <th></th>\n",
       "      <th></th>\n",
       "    </tr>\n",
       "  </thead>\n",
       "  <tbody>\n",
       "    <tr>\n",
       "      <th>F</th>\n",
       "      <td>135809.0</td>\n",
       "      <td>8736.540266</td>\n",
       "      <td>4596.984614</td>\n",
       "      <td>1984.0</td>\n",
       "      <td>5433.0</td>\n",
       "      <td>7914.0</td>\n",
       "      <td>11400.0</td>\n",
       "      <td>19336.0</td>\n",
       "    </tr>\n",
       "    <tr>\n",
       "      <th>M</th>\n",
       "      <td>414259.0</td>\n",
       "      <td>9427.240997</td>\n",
       "      <td>4925.953492</td>\n",
       "      <td>1984.0</td>\n",
       "      <td>5863.0</td>\n",
       "      <td>8098.0</td>\n",
       "      <td>12454.0</td>\n",
       "      <td>19336.0</td>\n",
       "    </tr>\n",
       "  </tbody>\n",
       "</table>\n",
       "</div>"
      ],
      "text/plain": [
       "           count         mean          std     min     25%     50%      75%  \\\n",
       "Gender                                                                        \n",
       "F       135809.0  8736.540266  4596.984614  1984.0  5433.0  7914.0  11400.0   \n",
       "M       414259.0  9427.240997  4925.953492  1984.0  5863.0  8098.0  12454.0   \n",
       "\n",
       "            max  \n",
       "Gender           \n",
       "F       19336.0  \n",
       "M       19336.0  "
      ]
     },
     "execution_count": 43,
     "metadata": {},
     "output_type": "execute_result"
    }
   ],
   "source": [
    "# Gender wise spending on products\n",
    "w_df.groupby('Gender')['Purchase'].describe()"
   ]
  },
  {
   "cell_type": "code",
   "execution_count": 49,
   "id": "e0bf5823-5395-48ed-a793-c7ab91d0c761",
   "metadata": {},
   "outputs": [
    {
     "data": {
      "text/plain": [
       "<Axes: xlabel='Gender', ylabel='Purchase'>"
      ]
     },
     "execution_count": 49,
     "metadata": {},
     "output_type": "execute_result"
    },
    {
     "data": {
      "image/png": "[encoded data removed]",
      "text/plain": [
       "<Figure size 640x480 with 1 Axes>"
      ]
     },
     "metadata": {},
     "output_type": "display_data"
    }
   ],
   "source": [
    "import seaborn as sbn\n",
    "sbn.boxplot(x = 'Gender', y= 'Purchase', data = w_df)"
   ]
  },
  {
   "cell_type": "markdown",
   "id": "e8066f46-a545-4347-9266-7f512708f497",
   "metadata": {},
   "source": [
    "we can not say that there is a significant difference between amount spent by male and female, so we can not conclude it for the population. So we have to use CLT here."
   ]
  },
  {
   "cell_type": "code",
   "execution_count": 53,
   "id": "c1ee3112-0c48-4e19-8bc0-4d6b10314054",
   "metadata": {},
   "outputs": [
    {
     "data": {
      "text/plain": [
       "<seaborn.axisgrid.FacetGrid at 0x23e3150a6b0>"
      ]
     },
     "execution_count": 53,
     "metadata": {},
     "output_type": "execute_result"
    },
    {
     "data": {
      "image/png": "[encoded data removed]",
      "text/plain": [
       "<Figure size 562.236x500 with 1 Axes>"
      ]
     },
     "metadata": {},
     "output_type": "display_data"
    }
   ],
   "source": [
    "sbn.displot(x = 'Purchase', data = w_df, bins = 25, hue = 'Gender')"
   ]
  },
  {
   "cell_type": "markdown",
   "id": "7bad41c9-590a-4d57-bb4f-30e049012b8c",
   "metadata": {},
   "source": [
    "It is  not a normal distribution, approximately it is more like right skwed data."
   ]
  },
  {
   "cell_type": "code",
   "execution_count": 42,
   "id": "a0953bf7-f549-4798-89f9-44da8dbd5892",
   "metadata": {},
   "outputs": [
    {
     "data": {
      "text/plain": [
       "(414259, 135809)"
      ]
     },
     "execution_count": 42,
     "metadata": {},
     "output_type": "execute_result"
    }
   ],
   "source": [
    "len(w_df[w_df['Gender'] == 'M']['Purchase']), len(w_df[w_df['Gender'] == 'F']['Purchase'])"
   ]
  },
  {
   "cell_type": "code",
   "execution_count": 43,
   "id": "f7d2fb6f-917a-4e42-a548-5637372bb497",
   "metadata": {},
   "outputs": [],
   "source": [
    "# Function to calculate bootstrap sample and confidence interval\n",
    "sample_means_data_lists = []\n",
    "def bootstrap_mean_ci(data, n_bootstrap=1000, alpha=0.05):\n",
    "    n = len(data)\n",
    "    bootstrap_means = np.zeros(n_bootstrap)\n",
    "    \n",
    "    for i in range(n_bootstrap):\n",
    "        bootstrap_sample = np.random.choice(data, size=n, replace=True) # the original data should be maintained With Replacement is true, the means are independent of each other.\n",
    "        bootstrap_means[i] = np.mean(bootstrap_sample)\n",
    "    global sample_means_data_lists\n",
    "    sample_means_data_lists.append(bootstrap_means)\n",
    "    \n",
    "    # Calculate 1-alpha confidence interval\n",
    "    lower_percentile = 100 * alpha / 2\n",
    "    upper_percentile = 100 * (1 - alpha / 2)\n",
    "    ci = np.percentile(bootstrap_means, [lower_percentile, upper_percentile])\n",
    "    \n",
    "    return ci"
   ]
  },
  {
   "cell_type": "code",
   "execution_count": 44,
   "id": "ba13af56-435a-4cc8-b380-532ad3eebf18",
   "metadata": {},
   "outputs": [],
   "source": [
    "sample_sizes = [len(w_df), 300, 3000, 30000]"
   ]
  },
  {
   "cell_type": "code",
   "execution_count": 45,
   "id": "e4378434-d242-433d-90c3-540f6d7de4c8",
   "metadata": {},
   "outputs": [
    {
     "name": "stdout",
     "output_type": "stream",
     "text": [
      "Sample Size: 550068\n",
      "Male Purchase CI: [9412.04397659 9441.66359168]\n",
      "Female Purchase CI: [8711.69042166 8760.98135875]\n",
      "\n",
      "Sample Size: 300\n",
      "Male Purchase CI: [ 8852.59343318 10089.85887097]\n",
      "Female Purchase CI: [6869.15572289 8819.64277108]\n",
      "\n",
      "Sample Size: 3000\n",
      "Male Purchase CI: [9333.80434489 9733.43114588]\n",
      "Female Purchase CI: [8661.92240051 9291.04342105]\n",
      "\n",
      "Sample Size: 30000\n",
      "Male Purchase CI: [9319.77187041 9447.77518927]\n",
      "Female Purchase CI: [8618.64555997 8823.58385023]\n",
      "\n"
     ]
    }
   ],
   "source": [
    "# Calculating confidence intervals for each sample size\n",
    "for size in sample_sizes:\n",
    "    subset_data = w_df.sample(size, replace=False)  # Sample without replacement for smaller sizes\n",
    "    males_data = subset_data[subset_data['Gender'] == 'M']['Purchase']\n",
    "    females_data = subset_data[subset_data['Gender'] == 'F']['Purchase']\n",
    "    \n",
    "    # Calculate bootstrap confidence intervals for males\n",
    "    ci_males = bootstrap_mean_ci(males_data)\n",
    "    \n",
    "    # Calculate bootstrap confidence intervals for females\n",
    "    ci_females = bootstrap_mean_ci(females_data)\n",
    "    \n",
    "    print(f\"Sample Size: {size}\")\n",
    "    print(f\"Male Purchase CI: {ci_males}\")\n",
    "    print(f\"Female Purchase CI: {ci_females}\")\n",
    "    print()"
   ]
  },
  {
   "cell_type": "markdown",
   "id": "a3a51c2a-420a-4e20-916e-b07f3eeec9b8",
   "metadata": {},
   "source": [
    "Is the confidence interval computed using the entire dataset wider for\n",
    "one of the genders? \n",
    "1. The confidence interval for females purchase data is [9412.04, 9441.66] and for females purchase data is [8711.69, 8760.98]\n",
    "2. The confidence interval for females purchase data is wider than males purchase data. The sample size of females purchase data is less than the males purchase data. The confidence interval range depends on size of the data or sample.\n",
    "3. When the sample size is smaller, each individual data point has a larger influence on the overall statistics (like the mean or standard deviation). This can lead to more variability in sample statistics from one sample to another.As a result, the confidence interval tends to be wider because there is greater uncertainty about the true population parameter.\n",
    "4. A wider confidence interval means that we are less precise in estimating where the population parameter lies.\n",
    "5. With a larger sample size, individual data points have less influence on the overall statistics. Sample statistics from larger samples tend to be more stable and consistent across different samples. This results in narrower confidence intervals because we have more confidence in the estimate of the population parameter. A narrower confidence interval indicates greater precision in estimating where the population parameter lies."
   ]
  },
  {
   "cell_type": "markdown",
   "id": "adcb5cb5-1a06-45cf-93c2-711f87dfdfc9",
   "metadata": {},
   "source": [
    "How is the width of the confidence interval affected by the sample size?\n",
    "\n",
    "As the sample size increases from 300 to 3000 and then to 30000, we observe a noticeable reduction in the width of the confidence interval. This narrowing indicates that with larger samples, there is less variability in our estimates of the mean. In other words, as we gather more data points, we become more confident and precise in our estimation of the true average value in the population."
   ]
  },
  {
   "cell_type": "markdown",
   "id": "830cb2ed-080c-4e59-9e60-d32e99d20ea8",
   "metadata": {},
   "source": [
    "Do the confidence intervals for different sample sizes overlap?\n",
    "1. The CI for Sample Size 300 overlaps with both Sample Size 3000 and Sample Size 30000.The CI for Sample Size 3000 overlaps with Sample Size 30000.\n",
    "2. Therefore, all three confidence intervals overlap, indicating that there is no significant difference in the estimated means between these sample sizes at the chosen confidence level.But we can estimate the population mean more precisely, so that we can conclude that the males are spending more than females with 95% confidence"
   ]
  },
  {
   "cell_type": "code",
   "execution_count": 46,
   "id": "31609c92-4398-426a-90cb-65b095cb02db",
   "metadata": {},
   "outputs": [
    {
     "data": {
      "text/plain": [
       "8"
      ]
     },
     "execution_count": 46,
     "metadata": {},
     "output_type": "execute_result"
    }
   ],
   "source": [
    "len(sample_means_data_lists)"
   ]
  },
  {
   "cell_type": "code",
   "execution_count": 47,
   "id": "1e71291e-931b-4b0d-8268-cf5a1510ec04",
   "metadata": {},
   "outputs": [],
   "source": [
    "\n",
    "male_purchase_means_data = sample_means_data_lists[0]\n",
    "female_purchase_means_data = sample_means_data_lists[1]\n",
    "male_purchase_means_data_300 = sample_means_data_lists[2]\n",
    "female_purchase_means_data_300 = sample_means_data_lists[3]\n",
    "male_purchase_means_data_3000 = sample_means_data_lists[4]\n",
    "female_purchase_means_data_3000 = sample_means_data_lists[5]\n",
    "male_purchase_means_data_30000 = sample_means_data_lists[6]\n",
    "female_purchase_means_data_30000 = sample_means_data_lists[7]"
   ]
  },
  {
   "cell_type": "code",
   "execution_count": 48,
   "id": "8ed80172-de57-4772-bfcc-cc2661b8fd7f",
   "metadata": {},
   "outputs": [
    {
     "data": {
      "text/plain": [
       "Text(0.5, 1.0, 'Distribution of female_purchase_means_data_30000')"
      ]
     },
     "execution_count": 48,
     "metadata": {},
     "output_type": "execute_result"
    },
    {
     "data": {
      "image/png": "[encoded data removed]",
      "text/plain": [
       "<Figure size 1500x1700 with 8 Axes>"
      ]
     },
     "metadata": {},
     "output_type": "display_data"
    }
   ],
   "source": [
    "fig = plt.figure(figsize=(15,17))\n",
    "fig.suptitle('Distributions of Means', fontsize=16)\n",
    "plt.subplot(4, 2, 1)\n",
    "sns.histplot(male_purchase_means_data)\n",
    "plt.title('Distribution of male_purchase_means_data', fontsize=12)\n",
    "\n",
    "plt.subplot(4, 2, 2)\n",
    "sns.histplot(female_purchase_means_data)\n",
    "plt.title('Distribution of female_purchase_means_data', fontsize=12)\n",
    "\n",
    "plt.subplot(4, 2, 3)\n",
    "sns.histplot(male_purchase_means_data_300)\n",
    "plt.title('Distribution of male_purchase_means_data_300', fontsize=12)\n",
    "\n",
    "plt.subplot(4, 2, 4)\n",
    "sns.histplot(female_purchase_means_data_300)\n",
    "plt.title('Distribution of female_purchase_means_data_300', fontsize=12)\n",
    "\n",
    "plt.subplot(4, 2, 5)\n",
    "sns.histplot(male_purchase_means_data_3000)\n",
    "plt.title('Distribution of male_purchase_means_data_3000', fontsize=12)\n",
    "\n",
    "plt.subplot(4, 2, 6)\n",
    "sns.histplot(female_purchase_means_data_3000)\n",
    "plt.title('Distribution of female_purchase_means_data_3000', fontsize=12)\n",
    "\n",
    "plt.subplot(4, 2, 7)\n",
    "sns.histplot(male_purchase_means_data_30000)\n",
    "plt.title('Distribution of male_purchase_means_data_30000', fontsize=12)\n",
    "\n",
    "plt.subplot(4, 2, 8)\n",
    "sns.histplot(female_purchase_means_data_30000)\n",
    "plt.title('Distribution of female_purchase_means_data_30000', fontsize=10)"
   ]
  },
  {
   "cell_type": "markdown",
   "id": "085af723-e7a5-4633-ad5f-ae9d3bd15cb7",
   "metadata": {},
   "source": [
    "How does the sample size affect the shape of the distributions of the\n",
    "means?\n",
    "1. The sample size significantly influences the shape of the distribution of sample means. Based on the Central Limit Theorem (CLT), as the sample size increases, the distribution of sample means tends to approximate a normal distribution, regardless of the shape of the population distribution from which the samples are drawn.\n",
    "2. With smaller sample sizes, the distribution of sample means tends to reflect the shape and variability of the population distribution more closely.\n",
    "If the population distribution is skewed or has outliers, small sample sizes may result in sample means that are similarly skewed or influenced by outliers.\n",
    "3. As the sample size increases, the distribution of sample means becomes narrower, more symmetric and will approximate a normal distribution, regardless of the shape of the original population distribution.This is because larger samples provide more data points and reduce the impact of individual extreme values, leading to a smoother and more bell-shaped distribution of means.\n",
    "4. Here the sample size with 30000, that the distribution of sample means is more bell-shaped and pretty good symmetry as compared with other samples, resembling a normal distribution."
   ]
  },
  {
   "cell_type": "code",
   "execution_count": 49,
   "id": "bf937e9b-bef7-422c-90da-4d40aaeab553",
   "metadata": {},
   "outputs": [
    {
     "name": "stdout",
     "output_type": "stream",
     "text": [
      "Requirement already satisfied: scipy in c:\\users\\sneha\\appdata\\local\\programs\\python\\python310\\lib\\site-packages (1.14.0)\n",
      "Requirement already satisfied: numpy<2.3,>=1.23.5 in c:\\users\\sneha\\appdata\\local\\programs\\python\\python310\\lib\\site-packages (from scipy) (1.26.4)\n"
     ]
    },
    {
     "name": "stderr",
     "output_type": "stream",
     "text": [
      "\n",
      "[notice] A new release of pip is available: 24.0 -> 24.1.1\n",
      "[notice] To update, run: python.exe -m pip install --upgrade pip\n"
     ]
    }
   ],
   "source": [
    "!pip install scipy\n"
   ]
  },
  {
   "cell_type": "markdown",
   "id": "f553e020-8592-4340-8c1f-e0e303b98e2b",
   "metadata": {},
   "source": [
    "### Performing Two-Sample T-Test:"
   ]
  },
  {
   "cell_type": "code",
   "execution_count": 50,
   "id": "9dcfc21b-7d87-47a0-a9c4-a88b039e4a4f",
   "metadata": {},
   "outputs": [
    {
     "name": "stdout",
     "output_type": "stream",
     "text": [
      "9427.240996574606 8736.540266109021\n"
     ]
    }
   ],
   "source": [
    " m_df = w_df[w_df['Gender'] == 'M']['Purchase']\n",
    "f_df =  w_df[w_df['Gender'] == 'F']['Purchase']\n",
    "m_df_mean = m_df.mean()\n",
    "f_df_mean = f_df.mean()\n",
    "print(m_df_mean, f_df_mean)"
   ]
  },
  {
   "cell_type": "markdown",
   "id": "de43418c-2a4d-42cc-bfd6-d0e59c4ffd95",
   "metadata": {},
   "source": [
    "> H0: There is no significant difference in average spent amount between male and female i.e. μ1 = μ2 ( μ1 = Mean purchase amount spent by males and μ2 = Mean purchase amount spent by females)\n",
    "> \n",
    "> Ha: Average amount spent by male is more than female i.e. μ1 > μ2"
   ]
  },
  {
   "cell_type": "code",
   "execution_count": 51,
   "id": "52b5b62b-5b6c-4c74-bc5a-d0aad89b7c7f",
   "metadata": {},
   "outputs": [
    {
     "name": "stdout",
     "output_type": "stream",
     "text": [
      "test statistic: 45.574933432542736\n",
      "p_value: 0.0\n"
     ]
    }
   ],
   "source": [
    "from scipy.stats import ttest_ind\n",
    "t_stat, pvalue = ttest_ind(m_df, f_df, alternative = 'greater')\n",
    "print(\"test statistic:\",t_stat)\n",
    "print(\"p_value:\",pvalue)"
   ]
  },
  {
   "cell_type": "markdown",
   "id": "0190fbd8-b9d8-47d1-9bd5-92a8647068c3",
   "metadata": {},
   "source": [
    "α=0.05  for confidence level 95%"
   ]
  },
  {
   "cell_type": "code",
   "execution_count": 52,
   "id": "b6ca6e28-5624-4e90-8b1f-7a4a6de032d3",
   "metadata": {},
   "outputs": [
    {
     "name": "stdout",
     "output_type": "stream",
     "text": [
      "Reject H0\n",
      "There is significant difference in average spent amount between male and female, average amount spent by male is more than female.\n"
     ]
    }
   ],
   "source": [
    "if pvalue < 0.05:\n",
    "    print(\"Reject H0\")\n",
    "    print(\"There is significant difference in average spent amount between male and female, average amount spent by male is more than female.\")\n",
    "else:\n",
    "    print(\"Fail to reject H0\")\n",
    "    print(\"There is no significant difference in average spent amount between male and female.\")"
   ]
  },
  {
   "cell_type": "markdown",
   "id": "3a93066e-e9f7-44e8-97fa-518ce27c587d",
   "metadata": {},
   "source": [
    "## The affect of marital_status on amount spent :"
   ]
  },
  {
   "cell_type": "markdown",
   "id": "76d4084a-b549-414c-a4ee-9ade58efddac",
   "metadata": {},
   "source": [
    "### Confidence Intervals (CI) for the average amount spent based on marital_status"
   ]
  },
  {
   "cell_type": "code",
   "execution_count": 53,
   "id": "38094c85-a0b8-4de9-8519-7010d72827e2",
   "metadata": {},
   "outputs": [
    {
     "data": {
      "text/plain": [
       "9258.820463706883"
      ]
     },
     "execution_count": 53,
     "metadata": {},
     "output_type": "execute_result"
    }
   ],
   "source": [
    "w_df[w_df['Marital_Status'] == 0]['Purchase'].mean()"
   ]
  },
  {
   "cell_type": "code",
   "execution_count": 54,
   "id": "eb23bfd7-c766-4eb3-9981-c6eb323f3e94",
   "metadata": {},
   "outputs": [
    {
     "data": {
      "text/plain": [
       "9253.669823420034"
      ]
     },
     "execution_count": 54,
     "metadata": {},
     "output_type": "execute_result"
    }
   ],
   "source": [
    "w_df[w_df['Marital_Status'] == 1]['Purchase'].mean()"
   ]
  },
  {
   "cell_type": "code",
   "execution_count": 55,
   "id": "553ae73e-fb8e-4687-b9e1-b612ba1f0933",
   "metadata": {},
   "outputs": [],
   "source": [
    "# Function to calculate bootstrap sample and confidence interval\n",
    "sample_means_data_list1 = []\n",
    "def bootstrap_mean_ci(data, n_bootstrap=1000, alpha=0.05):\n",
    "    n = len(data)\n",
    "    bootstrap_means = np.zeros(n_bootstrap)\n",
    "    \n",
    "    for i in range(n_bootstrap):\n",
    "        bootstrap_sample = np.random.choice(data, size=n, replace=True)\n",
    "        bootstrap_means[i] = np.mean(bootstrap_sample)\n",
    "    global sample_means_data_lists\n",
    "    sample_means_data_list1.append(bootstrap_means)\n",
    "    \n",
    "    # Calculate 1-alpha confidence interval\n",
    "    lower_percentile = 100 * alpha / 2\n",
    "    upper_percentile = 100 * (1 - alpha / 2)\n",
    "    ci = np.percentile(bootstrap_means, [lower_percentile, upper_percentile])\n",
    "    \n",
    "    return ci"
   ]
  },
  {
   "cell_type": "code",
   "execution_count": 56,
   "id": "04937e50-7007-4608-8fd4-544652d347ea",
   "metadata": {},
   "outputs": [],
   "source": [
    "sample_sizes = [len(w_df), 300, 3000, 30000]"
   ]
  },
  {
   "cell_type": "code",
   "execution_count": 57,
   "id": "5fc30271-d3bf-424f-af14-74c085194c6d",
   "metadata": {},
   "outputs": [
    {
     "name": "stdout",
     "output_type": "stream",
     "text": [
      "Sample Size: 550068\n",
      "Unmarried Purchase CI: [9240.67864186 9274.46026704]\n",
      "Married Purchase CI: [9234.21014658 9273.12997566]\n",
      "\n",
      "Sample Size: 300\n",
      "Unmarried Purchase CI: [8596.72581522 9975.89741848]\n",
      "Married Purchase CI: [ 8582.88426724 10262.18900862]\n",
      "\n",
      "Sample Size: 3000\n",
      "Unmarried Purchase CI: [9143.48231813 9616.73012413]\n",
      "Married Purchase CI: [8841.74643139 9367.07754338]\n",
      "\n",
      "Sample Size: 30000\n",
      "Unmarried Purchase CI: [9214.97173311 9358.70623729]\n",
      "Married Purchase CI: [9142.05473682 9309.54632485]\n",
      "\n"
     ]
    }
   ],
   "source": [
    "# Calculating confidence intervals for each sample size\n",
    "for size in sample_sizes:\n",
    "    subset_data = w_df.sample(size, replace=False)  # Sample without replacement for smaller sizes\n",
    "    males_data = subset_data[subset_data['Marital_Status'] == 0]['Purchase']\n",
    "    females_data = subset_data[subset_data['Marital_Status'] == 1]['Purchase']\n",
    "    \n",
    "    # Calculate bootstrap confidence intervals for males\n",
    "    ci_males = bootstrap_mean_ci(males_data)\n",
    "    \n",
    "    # Calculate bootstrap confidence intervals for females\n",
    "    ci_females = bootstrap_mean_ci(females_data)\n",
    "    \n",
    "    print(f\"Sample Size: {size}\")\n",
    "    print(f\"Unmarried Purchase CI: {ci_males}\")\n",
    "    print(f\"Married Purchase CI: {ci_females}\")\n",
    "    print()"
   ]
  },
  {
   "cell_type": "markdown",
   "id": "6edb23b2-e36a-4251-817f-26df402ca619",
   "metadata": {},
   "source": [
    "Is the confidence interval computed using the entire dataset wider for particular marital status ?\n",
    "\n",
    "1. The confidence interval for married individuals purchase data is wider than unmarried individuals purchase data.\n",
    "2. The sample size of married individuals purchase data is less than the unarried individuals purchase data. \n",
    "The confidence interval range depends on size of the data or sample.\n"
   ]
  },
  {
   "cell_type": "markdown",
   "id": "ee8e5bce-2bca-43af-a657-7a24e19b866d",
   "metadata": {},
   "source": [
    "How is the width of the confidence interval affected by the sample size?\n",
    "\n",
    "As the sample size increases from 300 to 3000 and then to 30000, we observe a noticeable reduction in the width of the confidence interval. This narrowing indicates that with larger samples, there is less variability in our estimates of the mean. In other words, as we gather more data points, we become more confident and precise in our estimation of the true average value in the population."
   ]
  },
  {
   "cell_type": "markdown",
   "id": "3566b7f0-a4fc-4cca-beb0-aa62973cc09d",
   "metadata": {},
   "source": [
    "Do the confidence intervals for different sample sizes overlap?\n",
    "1. The CI for Sample Size 300 overlaps with both Samples unmarried and married individuals, we can not conclude that the unmarried individuals spent more amount than married individuals.\n",
    "2. The CI for Sample Size 3000 and 30000 doesn't overlaps for unmarried and married individuals which can estimates for population that the mean amount spent by umarried individuals is more then the married individuals."
   ]
  },
  {
   "cell_type": "code",
   "execution_count": 58,
   "id": "e6f4a978-e895-4b79-9750-9ecedaf523b6",
   "metadata": {},
   "outputs": [],
   "source": [
    "unmarried_purchase_means_data = sample_means_data_list1[0]\n",
    "married_purchase_means_data = sample_means_data_lists[1]\n",
    "unmarried_purchase_means_data_300 = sample_means_data_list1[2]\n",
    "married_purchase_means_data_300 = sample_means_data_list1[3]\n",
    "unmarried_purchase_means_data_3000 = sample_means_data_list1[4]\n",
    "married_purchase_means_data_3000 = sample_means_data_list1[5]\n",
    "unmarried_purchase_means_data_30000 = sample_means_data_list1[6]\n",
    "married_purchase_means_data_30000 = sample_means_data_list1[7]"
   ]
  },
  {
   "cell_type": "code",
   "execution_count": 59,
   "id": "97fd8762-6508-4689-a871-b01ad02a7c5c",
   "metadata": {},
   "outputs": [
    {
     "data": {
      "text/plain": [
       "Text(0.5, 1.0, 'Distribution of married_purchase_means_data_30000')"
      ]
     },
     "execution_count": 59,
     "metadata": {},
     "output_type": "execute_result"
    },
    {
     "data": {
      "image/png": "[encoded data removed]",
      "text/plain": [
       "<Figure size 1500x1700 with 8 Axes>"
      ]
     },
     "metadata": {},
     "output_type": "display_data"
    }
   ],
   "source": [
    "fig = plt.figure(figsize=(15,17))\n",
    "fig.suptitle('Distributions of Means', fontsize=16)\n",
    "plt.subplot(4, 2, 1)\n",
    "sns.histplot(unmarried_purchase_means_data)\n",
    "plt.title('Distribution of unmarried_purchase_means_data', fontsize=12)\n",
    "\n",
    "plt.subplot(4, 2, 2)\n",
    "sns.histplot(married_purchase_means_data)\n",
    "plt.title('Distribution of married_purchase_means_data', fontsize=12)\n",
    "\n",
    "plt.subplot(4, 2, 3)\n",
    "sns.histplot(unmarried_purchase_means_data_300)\n",
    "plt.title('Distribution of unmarried_purchase_means_data_300', fontsize=12)\n",
    "\n",
    "plt.subplot(4, 2, 4)\n",
    "sns.histplot(married_purchase_means_data_300)\n",
    "plt.title('Distribution of married_purchase_means_data_300', fontsize=12)\n",
    "\n",
    "plt.subplot(4, 2, 5)\n",
    "sns.histplot(unmarried_purchase_means_data_3000)\n",
    "plt.title('Distribution of unmarried_purchase_means_data_3000', fontsize=12)\n",
    "\n",
    "plt.subplot(4, 2, 6)\n",
    "sns.histplot(married_purchase_means_data_3000)\n",
    "plt.title('Distribution of married_purchase_means_data_3000', fontsize=12)\n",
    "\n",
    "plt.subplot(4, 2, 7)\n",
    "sns.histplot(unmarried_purchase_means_data_30000)\n",
    "plt.title('Distribution of unmarried_purchase_means_data_30000', fontsize=12)\n",
    "\n",
    "plt.subplot(4, 2, 8)\n",
    "sns.histplot(married_purchase_means_data_30000)\n",
    "plt.title('Distribution of married_purchase_means_data_30000', fontsize=10)"
   ]
  },
  {
   "cell_type": "markdown",
   "id": "4c897999-a93f-4757-a743-669e8fa26f74",
   "metadata": {},
   "source": [
    "How does the sample size affect the shape of the distributions of the\n",
    "means?\n",
    "1. The sample size significantly influences the shape of the distribution of sample means. Based on the Central Limit Theorem (CLT), as the sample size increases, the distribution of sample means tends to approximate a normal distribution, regardless of the shape of the population distribution from which the samples are drawn.\n",
    "2. Here the sample size with 30000, that the distribution of sample means is smoother, more bell-shaped and pretty good symmetry as compared with other samples, resembling a normal distribution."
   ]
  },
  {
   "cell_type": "markdown",
   "id": "ed4d980c-9f84-4180-8888-b6b432ff3271",
   "metadata": {},
   "source": [
    "### Performing Two-Sample T-Test:"
   ]
  },
  {
   "cell_type": "code",
   "execution_count": 60,
   "id": "a3737da3-650e-4bb7-b73d-d427fa384ed7",
   "metadata": {},
   "outputs": [
    {
     "name": "stdout",
     "output_type": "stream",
     "text": [
      "9258.820463706883 9253.669823420034\n"
     ]
    }
   ],
   "source": [
    " un_df = w_df[w_df['Marital_Status'] == 0]['Purchase']\n",
    "ma_df =  w_df[w_df['Marital_Status'] == 1]['Purchase']\n",
    "un_df_mean = un_df.mean()\n",
    "ma_df_mean = ma_df.mean()\n",
    "print(un_df_mean, ma_df_mean)"
   ]
  },
  {
   "cell_type": "markdown",
   "id": "b68cd0de-8043-4cb9-a24f-469259e2d0ff",
   "metadata": {},
   "source": [
    "> H0: There is no significant difference in average spent amount between single(unmarried) and partnered(married) individuals i.e. μ1 = μ2 ( μ1 = Mean purchase amount spent by unmarried individuals and μ2 = Mean purchase amount spent by partnered individuals)\n",
    "> \n",
    "> Ha: There is a significant difference in average spent amount between single(unmarried) and partnered(married) individuals i.e. μ1 != μ2"
   ]
  },
  {
   "cell_type": "code",
   "execution_count": 61,
   "id": "539ebfed-d930-4e4d-8844-20b18c181c15",
   "metadata": {},
   "outputs": [
    {
     "name": "stdout",
     "output_type": "stream",
     "text": [
      "test statistic: 0.3868627106847199\n",
      "p_value: 0.69885799801922\n"
     ]
    }
   ],
   "source": [
    "from scipy.stats import ttest_ind\n",
    "t_stat, pvalue = ttest_ind(un_df, ma_df, alternative = 'two-sided')\n",
    "print(\"test statistic:\",t_stat)\n",
    "print(\"p_value:\",pvalue)"
   ]
  },
  {
   "cell_type": "code",
   "execution_count": 62,
   "id": "8bd083f3-b0f4-469e-9b8f-83b0b1dfecbb",
   "metadata": {},
   "outputs": [
    {
     "name": "stdout",
     "output_type": "stream",
     "text": [
      "Fail to reject H0\n",
      "There is no significant difference in average spent amount between single(unmarried) and partnered(married) individuals.\n"
     ]
    }
   ],
   "source": [
    "# α=0.05 for confidence level 95%\n",
    "if pvalue < 0.05:\n",
    "    print(\"Reject H0\")\n",
    "    print(\"There is a significant difference in average spent amount between single(unmarried) and partnered(married) individuals.\")\n",
    "else:\n",
    "    print(\"Fail to reject H0\")\n",
    "    print(\"There is no significant difference in average spent amount between single(unmarried) and partnered(married) individuals.\")"
   ]
  },
  {
   "cell_type": "markdown",
   "id": "ace0d63e-2421-4b21-828f-b239ac1d9b1d",
   "metadata": {},
   "source": [
    "## The affect of Age on amount spent :"
   ]
  },
  {
   "cell_type": "code",
   "execution_count": 63,
   "id": "c14a3854-6525-4525-9c4d-0ea3672f61f0",
   "metadata": {},
   "outputs": [],
   "source": [
    "age_groups = w_df['Age'].unique()"
   ]
  },
  {
   "cell_type": "code",
   "execution_count": 64,
   "id": "7298c71b-6aed-4dcf-93e3-4cc8c42aa809",
   "metadata": {},
   "outputs": [
    {
     "name": "stdout",
     "output_type": "stream",
     "text": [
      "Age Group: 0-17, 95% CI for mean Purchase: [8863.66, 9021.81]\n",
      "Age Group: 55+, 95% CI for mean Purchase: [9261.34, 9389.51]\n",
      "Age Group: 26-35, 95% CI for mean Purchase: [9225.06, 9262.69]\n",
      "Age Group: 46-50, 95% CI for mean Purchase: [9158.86, 9246.27]\n",
      "Age Group: 51-55, 95% CI for mean Purchase: [9467.92, 9560.86]\n",
      "Age Group: 36-45, 95% CI for mean Purchase: [9295.82, 9352.47]\n",
      "Age Group: 18-25, 95% CI for mean Purchase: [9139.60, 9200.78]\n"
     ]
    }
   ],
   "source": [
    "# Function to compute bootstrap mean and confidence interval\n",
    "def bootstrap_mean_ci(data, n_bootstrap=1000, alpha=0.05):\n",
    "    bootstrap_means = []\n",
    "    for _ in range(n_bootstrap):\n",
    "        bootstrap_sample = np.random.choice(data, size=len(data), replace=True)\n",
    "        bootstrap_means.append(np.mean(bootstrap_sample))\n",
    "    \n",
    "    # Calculate confidence interval\n",
    "    lower_percentile = 100 * alpha / 2\n",
    "    upper_percentile = 100 * (1 - alpha / 2)\n",
    "    ci = np.percentile(bootstrap_means, [lower_percentile, upper_percentile])\n",
    "    \n",
    "    return ci\n",
    "\n",
    "# Calculating confidence intervals for each age group\n",
    "cis = {}\n",
    "for age_group in age_groups:\n",
    "    data_subset = w_df[w_df['Age'] == age_group]['Purchase']\n",
    "    ci = bootstrap_mean_ci(data_subset)\n",
    "    cis[age_group] = ci\n",
    "\n",
    "# Print confidence intervals\n",
    "for age_group, ci in cis.items():\n",
    "    print(f\"Age Group: {age_group}, 95% CI for mean Purchase: [{ci[0]:.2f}, {ci[1]:.2f}]\")"
   ]
  },
  {
   "cell_type": "code",
   "execution_count": 74,
   "id": "73cccb62-cf0f-46f3-9011-613ae3060dd5",
   "metadata": {},
   "outputs": [
    {
     "data": {
      "text/plain": [
       "(15102, 21504, 219587, 45701)"
      ]
     },
     "execution_count": 74,
     "metadata": {},
     "output_type": "execute_result"
    }
   ],
   "source": [
    "len(w_df[w_df['Age'] == '0-17']), len(w_df[w_df['Age'] == '55+']), len(w_df[w_df['Age'] == '26-35']),len(w_df[w_df['Age'] == '46-50'])"
   ]
  },
  {
   "cell_type": "code",
   "execution_count": 75,
   "id": "fdc181ce-6455-4796-bae8-b3d3d030338a",
   "metadata": {},
   "outputs": [
    {
     "data": {
      "text/plain": [
       "(38501, 110013, 99660)"
      ]
     },
     "execution_count": 75,
     "metadata": {},
     "output_type": "execute_result"
    }
   ],
   "source": [
    "len(w_df[w_df['Age'] == '51-55']), len(w_df[w_df['Age'] == '36-45']), len(w_df[w_df['Age'] == '18-25'])"
   ]
  },
  {
   "cell_type": "markdown",
   "id": "c451eacc-9eee-49b6-ba37-4206ac55e184",
   "metadata": {},
   "source": [
    "Is the confidence interval computed using the entire dataset wider for particular age group ?\n",
    "\n",
    "1. The confidence interval for 0-17 age group purchase data is wider than other remaining groups purchase data and we can observe that the sample size is lowest among others.\n",
    "2. The confidence interval for 26-35 and 36-45 age group purchase data is shoter and the their respective sample size is more than other group samples.\n",
    "4. The confidence interval range depends on size of the sample.\n",
    "5. The number of purches made by 26-35, 36-45 and 18-25 age groups are high, but the mean purchase amount is not high. The 51-55 ahe group mean purchase amount is high even their sample size is not high as compared with 26-35, 36-45 and 18-25 age groups. "
   ]
  },
  {
   "cell_type": "code",
   "execution_count": 65,
   "id": "a87aa0b4-5f69-441b-9f1f-8c0ed20e093a",
   "metadata": {},
   "outputs": [],
   "source": [
    "sample_means_data = None\n",
    "def bootstrap_confidence_intervals(data, age_groups, sample_size, num_bootstraps=1000, alpha=0.05):\n",
    "    # Create a dictionary to store bootstrap sample means for each age group\n",
    "    \n",
    "    bootstrap_means = {age_group: [] for age_group in age_groups}\n",
    "    global sample_means_data\n",
    "    sample_means_data = {sample_size: [] for sample_size in sample_sizes}\n",
    "    sample_means_data[sample_size]= {age_group: [] for age_group in age_groups}\n",
    "    \n",
    "    # Perform bootstrapping\n",
    "    for _ in range(num_bootstraps):\n",
    "        # Generate a bootstrap sample with replacement\n",
    "        bootstrap_sample = data.sample(n=sample_size, replace=True)\n",
    "        \n",
    "        # Calculate mean amount spent for each age group in the bootstrap sample\n",
    "        for age_group in age_groups:\n",
    "            mean_spent = bootstrap_sample.loc[bootstrap_sample['Age'] == age_group, 'Purchase'].mean()\n",
    "            bootstrap_means[age_group].append(mean_spent)\n",
    "            sample_means_data[sample_size][age_group].append(bootstrap_means[age_group])\n",
    "    \n",
    "    # Compute confidence intervals using percentiles\n",
    "    confidence_intervals = {}\n",
    "    for age_group in age_groups:\n",
    "        # Calculate confidence interval for the age group\n",
    "        lower_bound = np.percentile(bootstrap_means[age_group], 100 * alpha / 2)\n",
    "        upper_bound = np.percentile(bootstrap_means[age_group], 100 * (1 - alpha / 2))\n",
    "        confidence_intervals[age_group] = (lower_bound, upper_bound)\n",
    "    \n",
    "    return confidence_intervals\n",
    "    "
   ]
  },
  {
   "cell_type": "code",
   "execution_count": 70,
   "id": "1aeb4f74-a3ac-44e0-b3de-c31cfebf2ea7",
   "metadata": {},
   "outputs": [
    {
     "name": "stdout",
     "output_type": "stream",
     "text": [
      "Sample Size: 300\n",
      "Age Group: 0-17\n",
      "Confidence Interval (95%): (5566.783571428572, 12892.849999999999)\n",
      "Age Group: 18-25\n",
      "Confidence Interval (95%): (7907.573713398403, 10593.541707516339)\n",
      "Age Group: 26-35\n",
      "Confidence Interval (95%): (8392.64616554054, 10165.111381295472)\n",
      "Age Group: 36-45\n",
      "Confidence Interval (95%): (8170.540732758621, 10628.183863359707)\n",
      "Age Group: 46-50\n",
      "Confidence Interval (95%): (7309.422619047618, 11207.086842105262)\n",
      "Age Group: 51-55\n",
      "Confidence Interval (95%): (7459.358611111112, 11689.832989130435)\n",
      "Age Group: 55+\n",
      "Confidence Interval (95%): (6609.752232142857, 12419.435714285715)\n",
      "\n",
      "Sample Size: 3000\n",
      "Age Group: 0-17\n",
      "Confidence Interval (95%): (7895.361538461539, 10050.903617886179)\n",
      "Age Group: 18-25\n",
      "Confidence Interval (95%): (8749.021096084367, 9600.974211767456)\n",
      "Age Group: 26-35\n",
      "Confidence Interval (95%): (8965.6383884641, 9496.578691312043)\n",
      "Age Group: 36-45\n",
      "Confidence Interval (95%): (8936.14107561685, 9717.662949110121)\n",
      "Age Group: 46-50\n",
      "Confidence Interval (95%): (8659.10032638002, 9782.269154575893)\n",
      "Age Group: 51-55\n",
      "Confidence Interval (95%): (8870.487723214286, 10164.359778963413)\n",
      "Age Group: 55+\n",
      "Confidence Interval (95%): (8422.175227946205, 10226.662168141593)\n",
      "\n",
      "Sample Size: 30000\n",
      "Age Group: 0-17\n",
      "Confidence Interval (95%): (8620.510738283232, 9281.646899151996)\n",
      "Age Group: 18-25\n",
      "Confidence Interval (95%): (9040.777037503776, 9289.40650079856)\n",
      "Age Group: 26-35\n",
      "Confidence Interval (95%): (9157.013789686951, 9334.07715111833)\n",
      "Age Group: 36-45\n",
      "Confidence Interval (95%): (9197.244735476786, 9442.234730149201)\n",
      "Age Group: 46-50\n",
      "Confidence Interval (95%): (9022.44229035171, 9385.303996891582)\n",
      "Age Group: 51-55\n",
      "Confidence Interval (95%): (9303.630480057653, 9721.543895287521)\n",
      "Age Group: 55+\n",
      "Confidence Interval (95%): (9057.36282406795, 9590.53265437434)\n",
      "\n"
     ]
    }
   ],
   "source": [
    "# Define age groups (you should adjust these based on your actual data)\n",
    "age_groups = ['0-17', '18-25', '26-35', '36-45', '46-50', '51-55', '55+']\n",
    "\n",
    "# Compute bootstrap confidence intervals for means for different sample sizes\n",
    "sample_sizes = [300, 3000, 30000]\n",
    "\n",
    "for sample_size in sample_sizes:\n",
    "    confidence_intervals = bootstrap_confidence_intervals(w_df, age_groups, sample_size)\n",
    "    \n",
    "    print(f\"Sample Size: {sample_size}\")\n",
    "    for age_group in age_groups:\n",
    "        print(f\"Age Group: {age_group}\")\n",
    "        print(f\"Confidence Interval (95%): {confidence_intervals[age_group]}\")\n",
    "    print()"
   ]
  },
  {
   "cell_type": "markdown",
   "id": "fbde889a-88a1-4653-8c0d-59a991f9444c",
   "metadata": {},
   "source": [
    "How is the width of the confidence interval affected by the sample size?\n",
    "\n",
    "As the sample size increases from 300 to 3000 and then to 30000, we observe a noticeable reduction in the width of the confidence interval. This narrowing indicates that with larger samples, there is less variability in our estimates of the mean. In other words, as we gather more data points, we become more confident and precise in our estimation of the true average value in the population."
   ]
  },
  {
   "cell_type": "markdown",
   "id": "8350486e-8f12-44bb-a4fd-745837cdcfd8",
   "metadata": {},
   "source": [
    "How does the sample size affect the shape of the distributions of the\n",
    "means?\n",
    "\n",
    "1. The sample size significantly influences the shape of the distribution of sample means. Based on the Central Limit Theorem (CLT), as the sample size increases, the distribution of sample means tends to approximate a normal distribution, regardless of the shape of the population distribution from which the samples are drawn.\n",
    "2. Here the sample size with 30000, that the distribution of sample means is smoother, more bell-shaped and pretty good symmetry as compared with other samples, resembling a normal distribution."
   ]
  },
  {
   "cell_type": "markdown",
   "id": "3e4047c7-d1c0-4fc5-aea1-363c980afceb",
   "metadata": {},
   "source": [
    "## Report"
   ]
  },
  {
   "cell_type": "markdown",
   "id": "0fc48c2b-866e-40a6-ae8e-9c34e984f9e6",
   "metadata": {},
   "source": [
    "### Insights:\n",
    "1. Product Category Preferences by Age Groups:\n",
    "   Product categories 1, 5, and 8 are popular across all age groups, indicating higher purchase frequency compared to other categories.\n",
    "\n",
    "   The 26-35 age group shows the highest number of purchases, followed by 36-45 and 18-25 age groups.\n",
    "\n",
    "   Individuals in the 0-17 and 55+ age groups make fewer purchases compared to other age groups.\n",
    "\n",
    "2. Marital Status Influence on Purchases:\n",
    "   Overall, there's little difference in mean purchase amounts between single and partnered individuals across most age groups, except for the 0-17 age    group, which consists only of single individuals.\n",
    "\n",
    "   Interestingly, single individuals in the 55+ age group tend to make more purchases than their married counterparts.\n",
    "\n",
    "3. Gender Differences in Purchasing Behavior:\n",
    "   Product categories 1, 5, and 8 are more frequently purchased by males than females.\n",
    "\n",
    "   Generally, males make more purchases than females across all product categories.\n",
    "\n",
    "4. Confidence Intervals and Sample Sizes:\n",
    "   The confidence interval for female purchase data tends to be wider than for males, likely due to the smaller sample size of female data.\n",
    "\n",
    "   Increasing sample size from 300 to 3000 and then to 30000 results in narrower confidence intervals. This indicates that larger sample sizes provide     more precise estimates of the population mean.\n",
    "\n",
    "   Confidence intervals overlap across different sample sizes, suggesting no significant difference in estimated means between these sample sizes at       the chosen confidence level.\n",
    "\n",
    "5. Effect of Sample Size on Distribution of Means:\n",
    "   With smaller sample sizes, the distribution of sample means may reflect the shape and variability of the population more closely, potentially           skewing or influenced by outliers.\n",
    "\n",
    "   As sample size increases, the distribution of sample means tends to become narrower and more bell-shaped, approximating a normal distribution. This     reflects more stable and reliable estimates of the population mean.\n",
    "\n",
    "6. Specific Age Group Insights:\n",
    "   The 0-17 age group has a wider confidence interval, likely due to its smaller sample size.\n",
    "\n",
    "   The 26-35, 36-45, and 18-25 age groups show higher purchase counts, but their mean purchase amounts are not the highest.\n",
    "\n",
    "   The 51-55 age group, despite having a smaller sample size, shows a higher mean purchase amount compared to these younger age groups.\n",
    "\n",
    "\n",
    "Summary:\n",
    "Overall, the analysis highlights age group preferences, gender differences, and the impact of marital status on purchase behavior. It also underscores the influence of sample size on statistical measures like confidence intervals and the distribution of sample means. Larger sample sizes lead to more precise estimates, while smaller sizes may reflect more variability. Understanding these insights can guide marketing strategies and product targeting efforts tailored to different demographic segments."
   ]
  },
  {
   "cell_type": "markdown",
   "id": "d096aece-4536-4021-8cc8-d58f5ea3914f",
   "metadata": {},
   "source": [
    "### Recommendations:\n",
    "1. Product Category Recommendations:\n",
    "   Focus marketing efforts on product categories 1, 5, and 8, as they are popular across all age groups and genders.\n",
    "\n",
    "   Consider promotions or special offers targeting these categories to capitalize on their higher purchase frequency.\n",
    "\n",
    "2. Targeting Age Groups:\n",
    "   Allocate marketing budgets towards the 26-35, 36-45, and 18-25 age groups, which show higher purchase counts.\n",
    "\n",
    "   Tailor product features or marketing messages to appeal specifically to these age demographics.\n",
    " \n",
    "3. Gender-Specific Strategies:\n",
    "   Develop targeted campaigns for males, emphasizing products in categories 1, 5, and 8 where they show a higher purchasing propensity.\n",
    "\n",
    "   Conduct further market research to understand specific preferences and motivations driving gender-based purchasing decisions.\n",
    "\n",
    "4. Marital Status Considerations:\n",
    "   Recognize that marital status may not significantly impact purchase amounts across most age groups.\n",
    "\n",
    "   However, cater to the needs of single individuals in the 55+ age group who show a higher purchasing behavior.\n",
    "\n",
    "5. Sampling and Statistical Insights:\n",
    "   When conducting future studies or surveys, prioritize larger sample sizes to obtain more reliable and precise estimates of consumer behavior.\n",
    "\n",
    "   Use confidence intervals to gauge the robustness of findings and ensure statistically significant results.\n",
    "6. Continuous Monitoring and Adaptation:\n",
    "   Continuously monitor sales trends and consumer preferences to adapt strategies promptly.\n",
    "\n",
    "   Stay agile in responding to shifts in market dynamics and consumer behavior patterns.\n",
    "\n",
    "Implementing these recommendations can help optimize marketing strategies, enhance product offerings, and ultimately increase customer engagement and satisfaction across different demographic segments."
   ]
  },
  {
   "cell_type": "code",
   "execution_count": null,
   "id": "a337bef2-9ef6-4774-a51b-5605a4f75474",
   "metadata": {},
   "outputs": [],
   "source": []
  }
 ],
 "metadata": {
  "kernelspec": {
   "display_name": "Python 3 (ipykernel)",
   "language": "python",
   "name": "python3"
  },
  "language_info": {
   "codemirror_mode": {
    "name": "ipython",
    "version": 3
   },
   "file_extension": ".py",
   "mimetype": "text/x-python",
   "name": "python",
   "nbconvert_exporter": "python",
   "pygments_lexer": "ipython3",
   "version": "3.10.0rc2"
  }
 },
 "nbformat": 4,
 "nbformat_minor": 5
}
